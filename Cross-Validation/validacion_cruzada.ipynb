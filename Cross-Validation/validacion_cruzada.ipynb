{
 "cells": [
  {
   "cell_type": "markdown",
   "metadata": {},
   "source": [
    "# Validación Cruzada\n",
    "\n",
    "- Supongamos que tenemos un modelo y que este modelo, lo creamos con la totalidad de los datos que tenemos.\n",
    "- Se utilizan datos de entrenamiento y de prueba.\n",
    "- Los datos de entrenamiento son lo que se utilizan para crear el modelo y los datos de pruebas serán para probar el modelo.\n",
    "- También es muy común que tengamos datos de entrenamiento y de validación.\n",
    "- Los datos de validación recordemos que nos permiten ajustar los hiperparámetros de un modelo.\n",
    "> Si suponemos que tenemos un modelo de **redes neuronales**. Un hiperparámetro de este modelo son por ejemplo **el número de neuronas y el número de capas que podría tener la red neuronal**.\n",
    ">\n",
    "    >> Entonces, creamos nuestro modelo de ML con los datos de entrenamiento y, con los datos de validación ajustamos esos parámetros. Qué tantas capas y qué tantas neuronas.\n",
    ">\n",
    "    >> Una vez encontrada la estructura idónea de nuestro modelo de ML, ahora sí, lo evaluamos con el conjunto de datos de prueba. Que serían datos que nunca ha visto nuestro modelo de ML.\n",
    ">\n",
    ">\n",
    "### Evaluación con validación cruzada.\n",
    "- Los datos disponibles son subdivididos en grupos o pliegues.\n",
    "- **Supongamos que tenemos 5 grupos**.\n",
    "- Los primeros 4 grupos son usados como el conjunto de datos de entrenamiento y el quinto grupo, es usado para evaluar el modelo. Esto es para la iteración 1.\n",
    "- Para la iteración 2, tenemos 4 pliegues y un quinto pliegue pero diferente es usado para evaluar el modelo. Por ejemplo los primeros tres y el quinto son los datos de entrenamiento y el cuarto pliegue es para la evaluación del modelo.\n",
    "- En la iteracion 3 tenemos el mismo caso pero, los primeros 2 y los dos últimos serían para el entrenamiento y el tercer grupo sería para la evaluación.\n",
    "- Y asi continua para la iteración 4 y 5 hasta que ha sido usado cada uno de los subgrupos para evaluar el modelo.\n",
    "> Ahora, la evaluación del desempeño del modelo es igual a la suma de todas las evaluaciones obtenidas para cada una de las iteraciones dividido entre el numero de iteraciones que en este caso es 5."
   ]
  },
  {
   "cell_type": "markdown",
   "metadata": {},
   "source": [
    "# Evaluación de Modelos\n",
    "### Validación cruzada (Cross-Validation)"
   ]
  },
  {
   "cell_type": "code",
   "execution_count": 2,
   "metadata": {},
   "outputs": [],
   "source": [
    "import pandas as pd\n",
    "from sklearn.ensemble import RandomForestClassifier\n",
    "from sklearn.model_selection import cross_val_score\n",
    "# podiamos usar cualquier tecnida de clasificación"
   ]
  },
  {
   "cell_type": "code",
   "execution_count": 3,
   "metadata": {},
   "outputs": [
    {
     "data": {
      "text/html": [
       "<div>\n",
       "<style scoped>\n",
       "    .dataframe tbody tr th:only-of-type {\n",
       "        vertical-align: middle;\n",
       "    }\n",
       "\n",
       "    .dataframe tbody tr th {\n",
       "        vertical-align: top;\n",
       "    }\n",
       "\n",
       "    .dataframe thead th {\n",
       "        text-align: right;\n",
       "    }\n",
       "</style>\n",
       "<table border=\"1\" class=\"dataframe\">\n",
       "  <thead>\n",
       "    <tr style=\"text-align: right;\">\n",
       "      <th></th>\n",
       "      <th>edad</th>\n",
       "      <th>estudio</th>\n",
       "      <th>ingreso</th>\n",
       "    </tr>\n",
       "  </thead>\n",
       "  <tbody>\n",
       "    <tr>\n",
       "      <th>0</th>\n",
       "      <td>27</td>\n",
       "      <td>9</td>\n",
       "      <td>0</td>\n",
       "    </tr>\n",
       "    <tr>\n",
       "      <th>1</th>\n",
       "      <td>30</td>\n",
       "      <td>9</td>\n",
       "      <td>0</td>\n",
       "    </tr>\n",
       "    <tr>\n",
       "      <th>2</th>\n",
       "      <td>34</td>\n",
       "      <td>8</td>\n",
       "      <td>0</td>\n",
       "    </tr>\n",
       "    <tr>\n",
       "      <th>3</th>\n",
       "      <td>26</td>\n",
       "      <td>13</td>\n",
       "      <td>0</td>\n",
       "    </tr>\n",
       "    <tr>\n",
       "      <th>4</th>\n",
       "      <td>23</td>\n",
       "      <td>4</td>\n",
       "      <td>0</td>\n",
       "    </tr>\n",
       "    <tr>\n",
       "      <th>...</th>\n",
       "      <td>...</td>\n",
       "      <td>...</td>\n",
       "      <td>...</td>\n",
       "    </tr>\n",
       "    <tr>\n",
       "      <th>95</th>\n",
       "      <td>32</td>\n",
       "      <td>13</td>\n",
       "      <td>1</td>\n",
       "    </tr>\n",
       "    <tr>\n",
       "      <th>96</th>\n",
       "      <td>20</td>\n",
       "      <td>10</td>\n",
       "      <td>0</td>\n",
       "    </tr>\n",
       "    <tr>\n",
       "      <th>97</th>\n",
       "      <td>46</td>\n",
       "      <td>3</td>\n",
       "      <td>0</td>\n",
       "    </tr>\n",
       "    <tr>\n",
       "      <th>98</th>\n",
       "      <td>37</td>\n",
       "      <td>9</td>\n",
       "      <td>0</td>\n",
       "    </tr>\n",
       "    <tr>\n",
       "      <th>99</th>\n",
       "      <td>47</td>\n",
       "      <td>9</td>\n",
       "      <td>0</td>\n",
       "    </tr>\n",
       "  </tbody>\n",
       "</table>\n",
       "<p>100 rows × 3 columns</p>\n",
       "</div>"
      ],
      "text/plain": [
       "    edad  estudio  ingreso\n",
       "0     27        9        0\n",
       "1     30        9        0\n",
       "2     34        8        0\n",
       "3     26       13        0\n",
       "4     23        4        0\n",
       "..   ...      ...      ...\n",
       "95    32       13        1\n",
       "96    20       10        0\n",
       "97    46        3        0\n",
       "98    37        9        0\n",
       "99    47        9        0\n",
       "\n",
       "[100 rows x 3 columns]"
      ]
     },
     "execution_count": 3,
     "metadata": {},
     "output_type": "execute_result"
    }
   ],
   "source": [
    "# Traemos nuestros datos\n",
    "personas = pd.read_csv(\"./salario.csv\")\n",
    "personas"
   ]
  },
  {
   "cell_type": "code",
   "execution_count": 4,
   "metadata": {},
   "outputs": [
    {
     "name": "stdout",
     "output_type": "stream",
     "text": [
      "0.97\n"
     ]
    }
   ],
   "source": [
    "# Creamos nuestro bosque aleatorio\n",
    "bosque = RandomForestClassifier()\n",
    "\n",
    "# Ajustamos el modelo a los datos\n",
    "bosque.fit(personas[[\"edad\", \"estudio\"]].values,\n",
    "           personas[\"ingreso\"].values)\n",
    "\n",
    "# Evaluamos el modelo(con los mismos datos que fueron usados para crearlo). Esto nos va a dar un valor de clasificación muy alto. Por lo que son las mismas preguntas(datos) que estudio el modelo. Es decir, las mismas preguntas que estudio el estudiante.\n",
    "print(bosque.score(personas[[\"edad\", \"estudio\"]].values,\n",
    "                   personas[\"ingreso\"].values))"
   ]
  },
  {
   "cell_type": "code",
   "execution_count": 9,
   "metadata": {},
   "outputs": [
    {
     "name": "stdout",
     "output_type": "stream",
     "text": [
      "[0.8  0.9  0.7  0.65 0.8 ]\n",
      "0.7699999999999999\n"
     ]
    }
   ],
   "source": [
    "# Ahora vamos a ver como se comporta el modelo usando validación cruzada. Como se comporta siendo entrenado ante instancias que nunca ha visto.\n",
    "print(cross_val_score(bosque,\n",
    "                      personas[[\"edad\", \"estudio\"]].values,\n",
    "                      personas[\"ingreso\"].values,\n",
    "                      cv = 5))\n",
    "\n",
    "print(cross_val_score(bosque,\n",
    "                      personas[[\"edad\", \"estudio\"]].values,\n",
    "                      personas[\"ingreso\"].values,\n",
    "                      cv = 5).mean())"
   ]
  }
 ],
 "metadata": {
  "kernelspec": {
   "display_name": "myenv",
   "language": "python",
   "name": "python3"
  },
  "language_info": {
   "codemirror_mode": {
    "name": "ipython",
    "version": 3
   },
   "file_extension": ".py",
   "mimetype": "text/x-python",
   "name": "python",
   "nbconvert_exporter": "python",
   "pygments_lexer": "ipython3",
   "version": "3.12.4"
  }
 },
 "nbformat": 4,
 "nbformat_minor": 2
}
